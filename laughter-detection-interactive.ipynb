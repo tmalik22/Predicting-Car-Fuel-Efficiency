{
  "nbformat": 4,
  "nbformat_minor": 0,
  "metadata": {
    "colab": {
      "name": "laughter-detection.ipynb",
      "provenance": [],
      "include_colab_link": true
    },
    "kernelspec": {
      "name": "python3",
      "display_name": "Python 3"
    },
    "language_info": {
      "name": "python"
    },
    "accelerator": "GPU"
  },
  "cells": [
    {
      "cell_type": "markdown",
      "metadata": {
        "id": "view-in-github",
        "colab_type": "text"
      },
      "source": [
        "<a href=\"https://colab.research.google.com/github/tmalik22/Predicting-Car-Fuel-Efficiency/blob/master/laughter-detection-interactive.ipynb\" target=\"_parent\"><img src=\"https://colab.research.google.com/assets/colab-badge.svg\" alt=\"Open In Colab\"/></a>"
      ]
    },
    {
      "cell_type": "code",
      "metadata": {
        "id": "Y-tQtobBO6kf",
        "colab": {
          "base_uri": "https://localhost:8080/"
        },
        "outputId": "99ceaaab-8b8b-498d-9c5c-3b317700346c"
      },
      "source": [
        "#@title Install Software\n",
        "\n",
        "!git clone https://github.com/jrgillick/laughter-detection.git\n",
        "\n",
        "%cd laughter-detection/\n",
        "!pip install tgt\n",
        "!pip install pyloudnorm\n",
        "!pip install praatio==3.8.0\n",
        "!pip install tensorboardX==1.9\n",
        "\n",
        "from google.colab import files"
      ],
      "execution_count": 1,
      "outputs": [
        {
          "output_type": "stream",
          "name": "stdout",
          "text": [
            "Cloning into 'laughter-detection'...\n",
            "remote: Enumerating objects: 435, done.\u001b[K\n",
            "remote: Counting objects: 100% (66/66), done.\u001b[K\n",
            "remote: Compressing objects: 100% (18/18), done.\u001b[K\n",
            "remote: Total 435 (delta 49), reused 48 (delta 48), pack-reused 369 (from 1)\u001b[K\n",
            "Receiving objects: 100% (435/435), 85.84 MiB | 28.73 MiB/s, done.\n",
            "Resolving deltas: 100% (232/232), done.\n",
            "/content/laughter-detection\n",
            "Collecting tgt\n",
            "  Downloading tgt-1.5-py3-none-any.whl.metadata (764 bytes)\n",
            "Downloading tgt-1.5-py3-none-any.whl (41 kB)\n",
            "\u001b[2K   \u001b[90m━━━━━━━━━━━━━━━━━━━━━━━━━━━━━━━━━━━━━━━━\u001b[0m \u001b[32m41.6/41.6 kB\u001b[0m \u001b[31m2.8 MB/s\u001b[0m eta \u001b[36m0:00:00\u001b[0m\n",
            "\u001b[?25hInstalling collected packages: tgt\n",
            "Successfully installed tgt-1.5\n",
            "Collecting pyloudnorm\n",
            "  Downloading pyloudnorm-0.1.1-py3-none-any.whl.metadata (5.6 kB)\n",
            "Requirement already satisfied: scipy>=1.0.1 in /usr/local/lib/python3.11/dist-packages (from pyloudnorm) (1.15.3)\n",
            "Requirement already satisfied: numpy>=1.14.2 in /usr/local/lib/python3.11/dist-packages (from pyloudnorm) (2.0.2)\n",
            "Requirement already satisfied: future>=0.16.0 in /usr/local/lib/python3.11/dist-packages (from pyloudnorm) (1.0.0)\n",
            "Downloading pyloudnorm-0.1.1-py3-none-any.whl (9.6 kB)\n",
            "Installing collected packages: pyloudnorm\n",
            "Successfully installed pyloudnorm-0.1.1\n",
            "Collecting praatio==3.8.0\n",
            "  Downloading praatio-3.8.0-py3-none-any.whl.metadata (8.2 kB)\n",
            "Downloading praatio-3.8.0-py3-none-any.whl (67 kB)\n",
            "\u001b[2K   \u001b[90m━━━━━━━━━━━━━━━━━━━━━━━━━━━━━━━━━━━━━━━━\u001b[0m \u001b[32m67.3/67.3 kB\u001b[0m \u001b[31m3.4 MB/s\u001b[0m eta \u001b[36m0:00:00\u001b[0m\n",
            "\u001b[?25hInstalling collected packages: praatio\n",
            "Successfully installed praatio-3.8.0\n",
            "Collecting tensorboardX==1.9\n",
            "  Downloading tensorboardX-1.9-py2.py3-none-any.whl.metadata (4.1 kB)\n",
            "Requirement already satisfied: numpy in /usr/local/lib/python3.11/dist-packages (from tensorboardX==1.9) (2.0.2)\n",
            "Requirement already satisfied: protobuf>=3.8.0 in /usr/local/lib/python3.11/dist-packages (from tensorboardX==1.9) (5.29.5)\n",
            "Requirement already satisfied: six in /usr/local/lib/python3.11/dist-packages (from tensorboardX==1.9) (1.17.0)\n",
            "Downloading tensorboardX-1.9-py2.py3-none-any.whl (190 kB)\n",
            "\u001b[2K   \u001b[90m━━━━━━━━━━━━━━━━━━━━━━━━━━━━━━━━━━━━━━━━\u001b[0m \u001b[32m190.7/190.7 kB\u001b[0m \u001b[31m5.5 MB/s\u001b[0m eta \u001b[36m0:00:00\u001b[0m\n",
            "\u001b[?25hInstalling collected packages: tensorboardX\n",
            "Successfully installed tensorboardX-1.9\n"
          ]
        }
      ]
    },
    {
      "cell_type": "markdown",
      "metadata": {
        "id": "xxyVpPeGgHiL"
      },
      "source": [
        "# **GPU is not enabled by default**\n",
        "\n",
        "In order to load the model without errors:\n",
        "\n",
        "Go to Runtime > Change runtime type > Hardware accelerator > GPU"
      ]
    },
    {
      "cell_type": "code",
      "metadata": {
        "id": "8MsgjqOpPJZI",
        "colab": {
          "base_uri": "https://localhost:8080/",
          "height": 1000
        },
        "outputId": "2a04c081-cbb8-46cb-8579-5b950692f3d2"
      },
      "source": [
        "#@title Setup and Load Model\n",
        "\n",
        "%cd /content/laughter-detection\n",
        "\n",
        "import os, sys, pickle, time, librosa, argparse, torch, numpy as np, pandas as pd, scipy\n",
        "from tqdm import tqdm\n",
        "import tgt\n",
        "sys.path.append('./utils/')\n",
        "import laugh_segmenter\n",
        "import models, configs\n",
        "import dataset_utils, audio_utils, data_loaders, torch_utils\n",
        "from tqdm import tqdm\n",
        "from torch import optim, nn\n",
        "from functools import partial\n",
        "from distutils.util import strtobool\n",
        "\n",
        "sample_rate = 8000\n",
        "\n",
        "model_path = 'checkpoints/in_use/resnet_with_augmentation'\n",
        "config = configs.CONFIG_MAP['resnet_with_augmentation']\n",
        "\n",
        "device = torch.device('cuda' if torch.cuda.is_available() else 'cpu')\n",
        "print(f\"Using device {device}\")\n",
        "\n",
        "##### Load the Model\n",
        "\n",
        "model = config['model'](dropout_rate=0.0, linear_layer_size=config['linear_layer_size'], filter_sizes=config['filter_sizes'])\n",
        "feature_fn = config['feature_fn']\n",
        "model.set_device(device)\n",
        "\n",
        "if os.path.exists(model_path):\n",
        "    torch_utils.load_checkpoint(model_path+'/best.pth.tar', model)\n",
        "    model.eval()\n",
        "else:\n",
        "    raise Exception(f\"Model checkpoint not found at {model_path}\")"
      ],
      "execution_count": 5,
      "outputs": [
        {
          "output_type": "stream",
          "name": "stdout",
          "text": [
            "/content/laughter-detection\n",
            "Using device cuda\n",
            "training with dropout=0.0\n",
            "Loading checkpoint at: checkpoints/in_use/resnet_with_augmentation/best.pth.tar\n"
          ]
        },
        {
          "output_type": "error",
          "ename": "UnpicklingError",
          "evalue": "Weights only load failed. This file can still be loaded, to do so you have two options, \u001b[1mdo those steps only if you trust the source of the checkpoint\u001b[0m. \n\t(1) In PyTorch 2.6, we changed the default value of the `weights_only` argument in `torch.load` from `False` to `True`. Re-running `torch.load` with `weights_only` set to `False` will likely succeed, but it can result in arbitrary code execution. Do it only if you got the file from a trusted source.\n\t(2) Alternatively, to load with `weights_only=True` please check the recommended steps in the following error message.\n\tWeightsUnpickler error: Unsupported global: GLOBAL numpy.core.multiarray.scalar was not an allowed global by default. Please use `torch.serialization.add_safe_globals([scalar])` or the `torch.serialization.safe_globals([scalar])` context manager to allowlist this global if you trust this class/function.\n\nCheck the documentation of torch.load to learn more about types accepted by default with weights_only https://pytorch.org/docs/stable/generated/torch.load.html.",
          "traceback": [
            "\u001b[0;31m---------------------------------------------------------------------------\u001b[0m",
            "\u001b[0;31mUnpicklingError\u001b[0m                           Traceback (most recent call last)",
            "\u001b[0;32m<ipython-input-5-2292281166>\u001b[0m in \u001b[0;36m<cell line: 0>\u001b[0;34m()\u001b[0m\n\u001b[1;32m     30\u001b[0m \u001b[0;34m\u001b[0m\u001b[0m\n\u001b[1;32m     31\u001b[0m \u001b[0;32mif\u001b[0m \u001b[0mos\u001b[0m\u001b[0;34m.\u001b[0m\u001b[0mpath\u001b[0m\u001b[0;34m.\u001b[0m\u001b[0mexists\u001b[0m\u001b[0;34m(\u001b[0m\u001b[0mmodel_path\u001b[0m\u001b[0;34m)\u001b[0m\u001b[0;34m:\u001b[0m\u001b[0;34m\u001b[0m\u001b[0;34m\u001b[0m\u001b[0m\n\u001b[0;32m---> 32\u001b[0;31m     \u001b[0mtorch_utils\u001b[0m\u001b[0;34m.\u001b[0m\u001b[0mload_checkpoint\u001b[0m\u001b[0;34m(\u001b[0m\u001b[0mmodel_path\u001b[0m\u001b[0;34m+\u001b[0m\u001b[0;34m'/best.pth.tar'\u001b[0m\u001b[0;34m,\u001b[0m \u001b[0mmodel\u001b[0m\u001b[0;34m)\u001b[0m\u001b[0;34m\u001b[0m\u001b[0;34m\u001b[0m\u001b[0m\n\u001b[0m\u001b[1;32m     33\u001b[0m     \u001b[0mmodel\u001b[0m\u001b[0;34m.\u001b[0m\u001b[0meval\u001b[0m\u001b[0;34m(\u001b[0m\u001b[0;34m)\u001b[0m\u001b[0;34m\u001b[0m\u001b[0;34m\u001b[0m\u001b[0m\n\u001b[1;32m     34\u001b[0m \u001b[0;32melse\u001b[0m\u001b[0;34m:\u001b[0m\u001b[0;34m\u001b[0m\u001b[0;34m\u001b[0m\u001b[0m\n",
            "\u001b[0;32m/content/laughter-detection/laughter-detection/./utils/torch_utils.py\u001b[0m in \u001b[0;36mload_checkpoint\u001b[0;34m(checkpoint, model, optimizer)\u001b[0m\n\u001b[1;32m    107\u001b[0m         \u001b[0;32melse\u001b[0m\u001b[0;34m:\u001b[0m\u001b[0;34m\u001b[0m\u001b[0;34m\u001b[0m\u001b[0m\n\u001b[1;32m    108\u001b[0m                 \u001b[0mprint\u001b[0m\u001b[0;34m(\u001b[0m\u001b[0;34m\"Loading checkpoint at:\"\u001b[0m\u001b[0;34m,\u001b[0m \u001b[0mcheckpoint\u001b[0m\u001b[0;34m)\u001b[0m\u001b[0;34m\u001b[0m\u001b[0;34m\u001b[0m\u001b[0m\n\u001b[0;32m--> 109\u001b[0;31m         \u001b[0mcheckpoint\u001b[0m \u001b[0;34m=\u001b[0m \u001b[0mtorch\u001b[0m\u001b[0;34m.\u001b[0m\u001b[0mload\u001b[0m\u001b[0;34m(\u001b[0m\u001b[0mcheckpoint\u001b[0m\u001b[0;34m)\u001b[0m\u001b[0;34m\u001b[0m\u001b[0;34m\u001b[0m\u001b[0m\n\u001b[0m\u001b[1;32m    110\u001b[0m         \u001b[0mmodel\u001b[0m\u001b[0;34m.\u001b[0m\u001b[0mload_state_dict\u001b[0m\u001b[0;34m(\u001b[0m\u001b[0mcheckpoint\u001b[0m\u001b[0;34m[\u001b[0m\u001b[0;34m'state_dict'\u001b[0m\u001b[0;34m]\u001b[0m\u001b[0;34m)\u001b[0m\u001b[0;34m\u001b[0m\u001b[0;34m\u001b[0m\u001b[0m\n\u001b[1;32m    111\u001b[0m \u001b[0;34m\u001b[0m\u001b[0m\n",
            "\u001b[0;32m/usr/local/lib/python3.11/dist-packages/torch/serialization.py\u001b[0m in \u001b[0;36mload\u001b[0;34m(f, map_location, pickle_module, weights_only, mmap, **pickle_load_args)\u001b[0m\n\u001b[1;32m   1492\u001b[0m                 )\n\u001b[1;32m   1493\u001b[0m             \u001b[0;32mexcept\u001b[0m \u001b[0mpickle\u001b[0m\u001b[0;34m.\u001b[0m\u001b[0mUnpicklingError\u001b[0m \u001b[0;32mas\u001b[0m \u001b[0me\u001b[0m\u001b[0;34m:\u001b[0m\u001b[0;34m\u001b[0m\u001b[0;34m\u001b[0m\u001b[0m\n\u001b[0;32m-> 1494\u001b[0;31m                 \u001b[0;32mraise\u001b[0m \u001b[0mpickle\u001b[0m\u001b[0;34m.\u001b[0m\u001b[0mUnpicklingError\u001b[0m\u001b[0;34m(\u001b[0m\u001b[0m_get_wo_message\u001b[0m\u001b[0;34m(\u001b[0m\u001b[0mstr\u001b[0m\u001b[0;34m(\u001b[0m\u001b[0me\u001b[0m\u001b[0;34m)\u001b[0m\u001b[0;34m)\u001b[0m\u001b[0;34m)\u001b[0m \u001b[0;32mfrom\u001b[0m \u001b[0;32mNone\u001b[0m\u001b[0;34m\u001b[0m\u001b[0;34m\u001b[0m\u001b[0m\n\u001b[0m\u001b[1;32m   1495\u001b[0m         return _legacy_load(\n\u001b[1;32m   1496\u001b[0m             \u001b[0mopened_file\u001b[0m\u001b[0;34m,\u001b[0m \u001b[0mmap_location\u001b[0m\u001b[0;34m,\u001b[0m \u001b[0mpickle_module\u001b[0m\u001b[0;34m,\u001b[0m \u001b[0;34m**\u001b[0m\u001b[0mpickle_load_args\u001b[0m\u001b[0;34m\u001b[0m\u001b[0;34m\u001b[0m\u001b[0m\n",
            "\u001b[0;31mUnpicklingError\u001b[0m: Weights only load failed. This file can still be loaded, to do so you have two options, \u001b[1mdo those steps only if you trust the source of the checkpoint\u001b[0m. \n\t(1) In PyTorch 2.6, we changed the default value of the `weights_only` argument in `torch.load` from `False` to `True`. Re-running `torch.load` with `weights_only` set to `False` will likely succeed, but it can result in arbitrary code execution. Do it only if you got the file from a trusted source.\n\t(2) Alternatively, to load with `weights_only=True` please check the recommended steps in the following error message.\n\tWeightsUnpickler error: Unsupported global: GLOBAL numpy.core.multiarray.scalar was not an allowed global by default. Please use `torch.serialization.add_safe_globals([scalar])` or the `torch.serialization.safe_globals([scalar])` context manager to allowlist this global if you trust this class/function.\n\nCheck the documentation of torch.load to learn more about types accepted by default with weights_only https://pytorch.org/docs/stable/generated/torch.load.html."
          ]
        }
      ]
    },
    {
      "cell_type": "code",
      "metadata": {
        "id": "uoFF6je1PNuU"
      },
      "source": [
        "#@title Upload an audio file\n",
        "\n",
        "uploaded = files.upload()\n",
        "audio_path = list(uploaded.keys())[0]\n"
      ],
      "execution_count": null,
      "outputs": []
    },
    {
      "cell_type": "markdown",
      "source": [],
      "metadata": {
        "id": "kc5rhbIDXklU"
      }
    },
    {
      "cell_type": "code",
      "metadata": {
        "cellView": "form",
        "id": "R3LqFPm9biYP"
      },
      "source": [
        "#@title Choose settings and run Laughter Detection\n",
        "\n",
        "#@markdown This will take a minute\n",
        "\n",
        "threshold = 0.5 #@param {type:\"slider\", min:0.1, max:1.0, step:0.1}\n",
        "min_length = 0.2 #@param {type:\"slider\", min:0.1, max:1.0, step:0.1}\n",
        "save_to_audio_files = True #@param {type:\"boolean\"}\n",
        "save_to_textgrid = False #@param {type:\"boolean\"}\n",
        "output_dir = 'laughter_detection_output' #@param {type:\"string\"}\n",
        "\n",
        "\n",
        "##### Load the audio file and features\n",
        "\n",
        "inference_dataset = data_loaders.SwitchBoardLaughterInferenceDataset(\n",
        "    audio_path=audio_path, feature_fn=feature_fn, sr=sample_rate)\n",
        "\n",
        "collate_fn=partial(audio_utils.pad_sequences_with_labels,\n",
        "                        expand_channel_dim=config['expand_channel_dim'])\n",
        "\n",
        "inference_generator = torch.utils.data.DataLoader(\n",
        "    inference_dataset, num_workers=4, batch_size=8, shuffle=False, collate_fn=collate_fn)\n",
        "\n",
        "\n",
        "##### Make Predictions\n",
        "\n",
        "probs = []\n",
        "for model_inputs, _ in tqdm(inference_generator):\n",
        "    x = torch.from_numpy(model_inputs).float().to(device)\n",
        "    preds = model(x).cpu().detach().numpy().squeeze()\n",
        "    if len(preds.shape)==0:\n",
        "        preds = [float(preds)]\n",
        "    else:\n",
        "        preds = list(preds)\n",
        "    probs += preds\n",
        "probs = np.array(probs)\n",
        "\n",
        "file_length = audio_utils.get_audio_length(audio_path)\n",
        "\n",
        "fps = len(probs)/float(file_length)\n",
        "\n",
        "probs = laugh_segmenter.lowpass(probs)\n",
        "instances = laugh_segmenter.get_laughter_instances(probs, threshold=threshold, min_length=float(min_length), fps=fps)\n",
        "\n",
        "print(); print(\"found %d laughs.\" % (len (instances)))\n",
        "\n",
        "if len(instances) > 0:\n",
        "    full_res_y, full_res_sr = librosa.load(audio_path,sr=44100)\n",
        "    wav_paths = []\n",
        "    maxv = np.iinfo(np.int16).max\n",
        "\n",
        "    if save_to_audio_files:\n",
        "        if output_dir is None:\n",
        "            raise Exception(\"Need to specify an output directory to save audio files\")\n",
        "        else:\n",
        "            os.system(f\"mkdir -p {output_dir}\")\n",
        "            for index, instance in enumerate(instances):\n",
        "                laughs = laugh_segmenter.cut_laughter_segments([instance],full_res_y,full_res_sr)\n",
        "                wav_path = output_dir + \"/laugh_\" + str(index) + \".wav\"\n",
        "                scipy.io.wavfile.write(wav_path, full_res_sr, (laughs * maxv).astype(np.int16))\n",
        "                wav_paths.append(wav_path)\n",
        "            print(laugh_segmenter.format_outputs(instances, wav_paths))\n",
        "\n",
        "    if save_to_textgrid:\n",
        "        laughs = [{'start': i[0], 'end': i[1]} for i in instances]\n",
        "        tg = tgt.TextGrid()\n",
        "        laughs_tier = tgt.IntervalTier(name='laughter', objects=[\n",
        "        tgt.Interval(l['start'], l['end'], 'laugh') for l in laughs])\n",
        "        tg.add_tier(laughs_tier)\n",
        "        fname = os.path.splitext(os.path.basename(audio_path))[0]\n",
        "        tgt.write_to_file(tg, os.path.join(output_dir, fname + '_laughter.TextGrid'))\n",
        "\n",
        "        print('Saved laughter segments in {}'.format(\n",
        "            os.path.join(output_dir, fname + '_laughter.TextGrid')))"
      ],
      "execution_count": null,
      "outputs": []
    },
    {
      "cell_type": "code",
      "metadata": {
        "id": "7SujoMnTRxjb"
      },
      "source": [
        "#@title Listen to the detected laughter\n",
        "\n",
        "import IPython\n",
        "from IPython.display import Audio\n",
        "detected_laughs = librosa.util.find_files(output_dir)\n",
        "for laugh in detected_laughs:\n",
        "  IPython.display.display(Audio(laugh))"
      ],
      "execution_count": null,
      "outputs": []
    },
    {
      "cell_type": "code",
      "metadata": {
        "id": "69cuYnOGfON9"
      },
      "source": [],
      "execution_count": null,
      "outputs": []
    }
  ]
}